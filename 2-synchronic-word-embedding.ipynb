{
 "cells": [
  {
   "cell_type": "code",
   "execution_count": 1,
   "metadata": {},
   "outputs": [],
   "source": [
    "from gensim.models import KeyedVectors\n",
    "import pandas as pd\n",
    "import re\n",
    "from sklearn.metrics.pairwise import cosine_similarity\n",
    "\n",
    "PATH = 'data/'\n",
    "EMB = 'embeddings/'"
   ]
  },
  {
   "cell_type": "markdown",
   "metadata": {},
   "source": [
    "# W2V Evaluation on RG65"
   ]
  },
  {
   "cell_type": "code",
   "execution_count": 2,
   "metadata": {},
   "outputs": [
    {
     "data": {
      "text/html": [
       "<div>\n",
       "<style scoped>\n",
       "    .dataframe tbody tr th:only-of-type {\n",
       "        vertical-align: middle;\n",
       "    }\n",
       "\n",
       "    .dataframe tbody tr th {\n",
       "        vertical-align: top;\n",
       "    }\n",
       "\n",
       "    .dataframe thead th {\n",
       "        text-align: right;\n",
       "    }\n",
       "</style>\n",
       "<table border=\"1\" class=\"dataframe\">\n",
       "  <thead>\n",
       "    <tr style=\"text-align: right;\">\n",
       "      <th></th>\n",
       "      <th>word_1</th>\n",
       "      <th>word_2</th>\n",
       "      <th>human_judged</th>\n",
       "      <th>pure_bigrams</th>\n",
       "      <th>ppmi</th>\n",
       "      <th>pca_10</th>\n",
       "      <th>pca_100</th>\n",
       "      <th>pca_300</th>\n",
       "    </tr>\n",
       "  </thead>\n",
       "  <tbody>\n",
       "    <tr>\n",
       "      <th>0</th>\n",
       "      <td>cord</td>\n",
       "      <td>smile</td>\n",
       "      <td>0.02</td>\n",
       "      <td>0.170389</td>\n",
       "      <td>0.078244</td>\n",
       "      <td>0.444295</td>\n",
       "      <td>0.051424</td>\n",
       "      <td>0.136932</td>\n",
       "    </tr>\n",
       "    <tr>\n",
       "      <th>1</th>\n",
       "      <td>rooster</td>\n",
       "      <td>voyage</td>\n",
       "      <td>0.04</td>\n",
       "      <td>0.000000</td>\n",
       "      <td>0.000000</td>\n",
       "      <td>0.656314</td>\n",
       "      <td>0.021271</td>\n",
       "      <td>-0.070660</td>\n",
       "    </tr>\n",
       "    <tr>\n",
       "      <th>2</th>\n",
       "      <td>noon</td>\n",
       "      <td>string</td>\n",
       "      <td>0.04</td>\n",
       "      <td>0.285714</td>\n",
       "      <td>0.030978</td>\n",
       "      <td>0.909385</td>\n",
       "      <td>-0.008927</td>\n",
       "      <td>0.052625</td>\n",
       "    </tr>\n",
       "  </tbody>\n",
       "</table>\n",
       "</div>"
      ],
      "text/plain": [
       "    word_1  word_2  human_judged  pure_bigrams      ppmi    pca_10   pca_100  \\\n",
       "0     cord   smile          0.02      0.170389  0.078244  0.444295  0.051424   \n",
       "1  rooster  voyage          0.04      0.000000  0.000000  0.656314  0.021271   \n",
       "2     noon  string          0.04      0.285714  0.030978  0.909385 -0.008927   \n",
       "\n",
       "    pca_300  \n",
       "0  0.136932  \n",
       "1 -0.070660  \n",
       "2  0.052625  "
      ]
     },
     "execution_count": 2,
     "metadata": {},
     "output_type": "execute_result"
    }
   ],
   "source": [
    "df = pd.read_csv(PATH+'score_df.csv').drop(['word_1_num','word_2_num'], axis=1)\n",
    "df.head(3)"
   ]
  },
  {
   "cell_type": "code",
   "execution_count": 3,
   "metadata": {},
   "outputs": [],
   "source": [
    "def compute_cos_sim(w1, w2):\n",
    "    return cosine_similarity(w1.reshape(1,-1), w2.reshape(1,-1))[0][0]"
   ]
  },
  {
   "cell_type": "code",
   "execution_count": 4,
   "metadata": {},
   "outputs": [],
   "source": [
    "w2v_model = KeyedVectors.load_word2vec_format(\n",
    "    EMB+'GoogleNews-vectors-negative300.bin.gz',\n",
    "    binary=True\n",
    ")"
   ]
  },
  {
   "cell_type": "code",
   "execution_count": 5,
   "metadata": {},
   "outputs": [
    {
     "data": {
      "text/html": [
       "<div>\n",
       "<style scoped>\n",
       "    .dataframe tbody tr th:only-of-type {\n",
       "        vertical-align: middle;\n",
       "    }\n",
       "\n",
       "    .dataframe tbody tr th {\n",
       "        vertical-align: top;\n",
       "    }\n",
       "\n",
       "    .dataframe thead th {\n",
       "        text-align: right;\n",
       "    }\n",
       "</style>\n",
       "<table border=\"1\" class=\"dataframe\">\n",
       "  <thead>\n",
       "    <tr style=\"text-align: right;\">\n",
       "      <th></th>\n",
       "      <th>word_1</th>\n",
       "      <th>word_2</th>\n",
       "      <th>human_judged</th>\n",
       "      <th>pure_bigrams</th>\n",
       "      <th>ppmi</th>\n",
       "      <th>pca_10</th>\n",
       "      <th>pca_100</th>\n",
       "      <th>pca_300</th>\n",
       "      <th>w2w</th>\n",
       "    </tr>\n",
       "  </thead>\n",
       "  <tbody>\n",
       "    <tr>\n",
       "      <th>0</th>\n",
       "      <td>cord</td>\n",
       "      <td>smile</td>\n",
       "      <td>0.02</td>\n",
       "      <td>0.170389</td>\n",
       "      <td>0.078244</td>\n",
       "      <td>0.444295</td>\n",
       "      <td>0.051424</td>\n",
       "      <td>0.136932</td>\n",
       "      <td>0.018116</td>\n",
       "    </tr>\n",
       "    <tr>\n",
       "      <th>1</th>\n",
       "      <td>rooster</td>\n",
       "      <td>voyage</td>\n",
       "      <td>0.04</td>\n",
       "      <td>0.000000</td>\n",
       "      <td>0.000000</td>\n",
       "      <td>0.656314</td>\n",
       "      <td>0.021271</td>\n",
       "      <td>-0.070660</td>\n",
       "      <td>0.062758</td>\n",
       "    </tr>\n",
       "    <tr>\n",
       "      <th>2</th>\n",
       "      <td>noon</td>\n",
       "      <td>string</td>\n",
       "      <td>0.04</td>\n",
       "      <td>0.285714</td>\n",
       "      <td>0.030978</td>\n",
       "      <td>0.909385</td>\n",
       "      <td>-0.008927</td>\n",
       "      <td>0.052625</td>\n",
       "      <td>0.021655</td>\n",
       "    </tr>\n",
       "  </tbody>\n",
       "</table>\n",
       "</div>"
      ],
      "text/plain": [
       "    word_1  word_2  human_judged  pure_bigrams      ppmi    pca_10   pca_100  \\\n",
       "0     cord   smile          0.02      0.170389  0.078244  0.444295  0.051424   \n",
       "1  rooster  voyage          0.04      0.000000  0.000000  0.656314  0.021271   \n",
       "2     noon  string          0.04      0.285714  0.030978  0.909385 -0.008927   \n",
       "\n",
       "    pca_300       w2w  \n",
       "0  0.136932  0.018116  \n",
       "1 -0.070660  0.062758  \n",
       "2  0.052625  0.021655  "
      ]
     },
     "execution_count": 5,
     "metadata": {},
     "output_type": "execute_result"
    }
   ],
   "source": [
    "df['w2w'] = df.apply(\n",
    "    lambda x: compute_cos_sim(\n",
    "        w2v_model[x['word_1']],\n",
    "        w2v_model[x['word_2']]),\n",
    "    axis=1\n",
    ")\n",
    "df.head(3)"
   ]
  },
  {
   "cell_type": "code",
   "execution_count": 6,
   "metadata": {},
   "outputs": [
    {
     "data": {
      "text/plain": [
       "w2w             0.772\n",
       "pca_100         0.407\n",
       "pca_300         0.347\n",
       "pca_10          0.180\n",
       "ppmi            0.093\n",
       "pure_bigrams    0.074\n",
       "Name: human_judged, dtype: float64"
      ]
     },
     "execution_count": 6,
     "metadata": {},
     "output_type": "execute_result"
    }
   ],
   "source": [
    "corr = df.corr(method='pearson').round(3)\n",
    "corr_with_humans = corr['human_judged'].drop('human_judged').sort_values(ascending=False)\n",
    "corr_with_humans"
   ]
  },
  {
   "cell_type": "markdown",
   "metadata": {},
   "source": [
    "# Semantic / Syntactic analogy test - Preprocessing"
   ]
  },
  {
   "cell_type": "code",
   "execution_count": 7,
   "metadata": {},
   "outputs": [
    {
     "data": {
      "text/html": [
       "<div>\n",
       "<style scoped>\n",
       "    .dataframe tbody tr th:only-of-type {\n",
       "        vertical-align: middle;\n",
       "    }\n",
       "\n",
       "    .dataframe tbody tr th {\n",
       "        vertical-align: top;\n",
       "    }\n",
       "\n",
       "    .dataframe thead th {\n",
       "        text-align: right;\n",
       "    }\n",
       "</style>\n",
       "<table border=\"1\" class=\"dataframe\">\n",
       "  <thead>\n",
       "    <tr style=\"text-align: right;\">\n",
       "      <th></th>\n",
       "      <th>word_00</th>\n",
       "      <th>word_01</th>\n",
       "      <th>word_10</th>\n",
       "      <th>word_11</th>\n",
       "    </tr>\n",
       "  </thead>\n",
       "  <tbody>\n",
       "    <tr>\n",
       "      <th>0</th>\n",
       "      <td>Athens</td>\n",
       "      <td>Greece</td>\n",
       "      <td>Baghdad</td>\n",
       "      <td>Iraq</td>\n",
       "    </tr>\n",
       "    <tr>\n",
       "      <th>1</th>\n",
       "      <td>Athens</td>\n",
       "      <td>Greece</td>\n",
       "      <td>Bangkok</td>\n",
       "      <td>Thailand</td>\n",
       "    </tr>\n",
       "    <tr>\n",
       "      <th>2</th>\n",
       "      <td>Athens</td>\n",
       "      <td>Greece</td>\n",
       "      <td>Beijing</td>\n",
       "      <td>China</td>\n",
       "    </tr>\n",
       "  </tbody>\n",
       "</table>\n",
       "</div>"
      ],
      "text/plain": [
       "  word_00 word_01  word_10   word_11\n",
       "0  Athens  Greece  Baghdad      Iraq\n",
       "1  Athens  Greece  Bangkok  Thailand\n",
       "2  Athens  Greece  Beijing     China"
      ]
     },
     "execution_count": 7,
     "metadata": {},
     "output_type": "execute_result"
    }
   ],
   "source": [
    "data = pd.read_csv(\n",
    "    PATH+'word-test.v1.txt',\n",
    "    sep=\" \", header = None,\n",
    "    skiprows=2\n",
    ")\n",
    "data.columns=['word_00', 'word_01', 'word_10', 'word_11']\n",
    "\n",
    "split_ind = data[data['word_01']=='gram1-adjective-to-adverb'].index[0]\n",
    "sem_analogy = data[:split_ind]\n",
    "sem_analogy = sem_analogy[sem_analogy['word_00']!=':'].reset_index(drop=True)\n",
    "synt_analogy = data[split_ind+1:]\n",
    "synt_analogy = synt_analogy[synt_analogy['word_00']!=':'].reset_index(drop=True)\n",
    "\n",
    "data.head(3)"
   ]
  },
  {
   "cell_type": "code",
   "execution_count": 8,
   "metadata": {},
   "outputs": [],
   "source": [
    "lsa_model = KeyedVectors.load_word2vec_format(PATH+\"lsa.txt\")\n",
    "lsa_vocab =  list(lsa_model.vocab.keys())"
   ]
  },
  {
   "cell_type": "code",
   "execution_count": 9,
   "metadata": {},
   "outputs": [],
   "source": [
    "for df in [synt_analogy, sem_analogy]:\n",
    "    for col in df.columns:\n",
    "        mask = df[col].apply(lambda x: True if x.lower() in lsa_vocab else False)\n",
    "        df = df[mask].reset_index(drop=True)"
   ]
  },
  {
   "cell_type": "code",
   "execution_count": 10,
   "metadata": {},
   "outputs": [],
   "source": [
    "with open(PATH+'synt_analogy.txt', 'w') as f:\n",
    "    f.write(': main\\n' + synt_analogy.to_string(header=False, index=False))\n",
    "    f.close()\n",
    "\n",
    "with open(PATH+'sem_analogy.txt', 'w') as f:\n",
    "    f.write(': main\\n' + sem_analogy.to_string(header=False, index=False))\n",
    "    f.close()"
   ]
  },
  {
   "cell_type": "markdown",
   "metadata": {},
   "source": [
    "# Semantic / Syntactic analogy test - Evaluation"
   ]
  },
  {
   "cell_type": "code",
   "execution_count": 11,
   "metadata": {},
   "outputs": [],
   "source": [
    "synt_lsa = lsa_model.evaluate_word_analogies(PATH+'synt_analogy.txt')[0]\n",
    "sem_lsa = lsa_model.evaluate_word_analogies(PATH+'sem_analogy.txt')[0]\n",
    "\n",
    "# calculated on another PC (not enough RAM on mine)\n",
    "# sem_w2v = w2v_model.evaluate_word_analogies('sem_analogy.txt')[0]\n",
    "# synt_w2v = w2v_model.evaluate_word_analogies('synt_analogy.txt')[0]\n",
    "synt_w2v, sem_w2v = 0.7390163, 0.6800925"
   ]
  },
  {
   "cell_type": "code",
   "execution_count": 12,
   "metadata": {},
   "outputs": [
    {
     "name": "stdout",
     "output_type": "stream",
     "text": [
      "W2V - Semantic analogy test: 0.6801\n",
      "W2V - Syntactic analogy test: 0.7390\n",
      "\n",
      "LSA - Semantic analogy test: 0.1739\n",
      "LSA - Syntactic analogy test: 0.0934\n"
     ]
    }
   ],
   "source": [
    "print(f\"W2V - Semantic analogy test: {sem_w2v:.4f}\")\n",
    "print(f\"W2V - Syntactic analogy test: {synt_w2v:.4f}\\n\")\n",
    "print(f\"LSA - Semantic analogy test: {sem_lsa:.4f}\")\n",
    "print(f\"LSA - Syntactic analogy test: {synt_lsa:.4f}\")"
   ]
  }
 ],
 "metadata": {
  "kernelspec": {
   "display_name": "Python 3",
   "language": "python",
   "name": "python3"
  },
  "language_info": {
   "codemirror_mode": {
    "name": "ipython",
    "version": 3
   },
   "file_extension": ".py",
   "mimetype": "text/x-python",
   "name": "python",
   "nbconvert_exporter": "python",
   "pygments_lexer": "ipython3",
   "version": "3.8.5"
  }
 },
 "nbformat": 4,
 "nbformat_minor": 4
}
