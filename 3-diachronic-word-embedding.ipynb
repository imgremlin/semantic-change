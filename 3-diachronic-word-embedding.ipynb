{
 "cells": [
  {
   "cell_type": "code",
   "execution_count": 1,
   "metadata": {},
   "outputs": [],
   "source": [
    "import pickle\n",
    "import numpy as np\n",
    "import pandas as pd\n",
    "from scipy.spatial import distance\n",
    "from scipy.linalg import orthogonal_procrustes\n",
    "import matplotlib.pyplot as plt\n",
    "\n",
    "PATH = 'data/'\n",
    "EMB = 'embeddings/'\n",
    "EVAL = 'evaluation/'"
   ]
  },
  {
   "cell_type": "code",
   "execution_count": 2,
   "metadata": {},
   "outputs": [],
   "source": [
    "with open(EMB+'data.pkl', 'rb') as f:\n",
    "    data = pickle.load(f)"
   ]
  },
  {
   "cell_type": "code",
   "execution_count": 3,
   "metadata": {},
   "outputs": [
    {
     "data": {
      "text/plain": [
       "(2000, 10, 300)"
      ]
     },
     "execution_count": 3,
     "metadata": {},
     "output_type": "execute_result"
    }
   ],
   "source": [
    "# 2000 words -> 10 decades -> 300 embedding size\n",
    "emb = np.array(data['E'])\n",
    "emb.shape"
   ]
  },
  {
   "cell_type": "markdown",
   "metadata": {},
   "source": [
    "# Aligning Historical Embeddings"
   ]
  },
  {
   "cell_type": "code",
   "execution_count": 4,
   "metadata": {},
   "outputs": [],
   "source": [
    "rotation_arr = [emb[:,0,:]]\n",
    "for i in range(1,10):\n",
    "    ret = orthogonal_procrustes(emb[:,i,:], rotation_arr[-1])\n",
    "    rotation_arr.append(emb[:,i,:] @ ret[0])"
   ]
  },
  {
   "cell_type": "code",
   "execution_count": 5,
   "metadata": {},
   "outputs": [
    {
     "data": {
      "text/plain": [
       "(2000, 300, 10)"
      ]
     },
     "execution_count": 5,
     "metadata": {},
     "output_type": "execute_result"
    }
   ],
   "source": [
    "emb = np.stack(rotation_arr)\n",
    "emb = np.einsum('ijk->jki', emb)\n",
    "emb.shape"
   ]
  },
  {
   "cell_type": "markdown",
   "metadata": {},
   "source": [
    "# Measuring Degree of Semantic Change"
   ]
  },
  {
   "cell_type": "markdown",
   "metadata": {},
   "source": [
    "## Method 1 - STD"
   ]
  },
  {
   "cell_type": "code",
   "execution_count": 6,
   "metadata": {},
   "outputs": [
    {
     "data": {
      "text/plain": [
       "(2000,)"
      ]
     },
     "execution_count": 6,
     "metadata": {},
     "output_type": "execute_result"
    }
   ],
   "source": [
    "emb_std = np.array([emb[i].std(1).mean() for i in range(emb.shape[0])])\n",
    "emb_std.shape"
   ]
  },
  {
   "cell_type": "markdown",
   "metadata": {},
   "source": [
    "## Method 2 - Linear Regression"
   ]
  },
  {
   "cell_type": "code",
   "execution_count": 7,
   "metadata": {},
   "outputs": [
    {
     "data": {
      "text/plain": [
       "array([0. , 0.1, 0.2, 0.3, 0.4, 0.5, 0.6, 0.7, 0.8, 0.9])"
      ]
     },
     "execution_count": 7,
     "metadata": {},
     "output_type": "execute_result"
    }
   ],
   "source": [
    "x = np.arange(10)/10\n",
    "x"
   ]
  },
  {
   "cell_type": "code",
   "execution_count": 8,
   "metadata": {},
   "outputs": [],
   "source": [
    "lin_emb = np.array(\n",
    "    [[np.polyfit(x, emb[i][y], 1)[0]\n",
    "      for y in range(emb.shape[1])]\n",
    "     for i in range(emb.shape[0])])"
   ]
  },
  {
   "cell_type": "code",
   "execution_count": 9,
   "metadata": {},
   "outputs": [
    {
     "data": {
      "text/plain": [
       "(2000,)"
      ]
     },
     "execution_count": 9,
     "metadata": {},
     "output_type": "execute_result"
    }
   ],
   "source": [
    "lin_emb_sum = np.abs(lin_emb).sum(1)\n",
    "lin_emb_sum.shape"
   ]
  },
  {
   "cell_type": "markdown",
   "metadata": {},
   "source": [
    "## Method 3 - Cosine Distance"
   ]
  },
  {
   "cell_type": "code",
   "execution_count": 10,
   "metadata": {},
   "outputs": [
    {
     "data": {
      "text/plain": [
       "array([0.1, 0.2, 0.3, 0.4, 0.5, 0.6, 0.7, 0.8, 0.9])"
      ]
     },
     "execution_count": 10,
     "metadata": {},
     "output_type": "execute_result"
    }
   ],
   "source": [
    "weights = np.arange(1,10)/10\n",
    "weights"
   ]
  },
  {
   "cell_type": "code",
   "execution_count": 11,
   "metadata": {},
   "outputs": [
    {
     "name": "stderr",
     "output_type": "stream",
     "text": [
      "/home/alex/anaconda3/lib/python3.8/site-packages/scipy/spatial/distance.py:720: RuntimeWarning: invalid value encountered in double_scalars\n",
      "  dist = 1.0 - uv / np.sqrt(uu * vv)\n"
     ]
    }
   ],
   "source": [
    "cos_dist_emb = []\n",
    "for i in range(2000):\n",
    "    val = np.array([\n",
    "        distance.cosine(emb[i,:,0], emb[i,:,y])\n",
    "        for y in range(1,10)]\n",
    "        )\n",
    "    val[np.isnan(val)] = 0\n",
    "    cos_dist_emb.append(val.dot(weights))"
   ]
  },
  {
   "cell_type": "markdown",
   "metadata": {},
   "source": [
    "## Intercorrelation among methods"
   ]
  },
  {
   "cell_type": "code",
   "execution_count": 12,
   "metadata": {},
   "outputs": [
    {
     "data": {
      "text/html": [
       "<div>\n",
       "<style scoped>\n",
       "    .dataframe tbody tr th:only-of-type {\n",
       "        vertical-align: middle;\n",
       "    }\n",
       "\n",
       "    .dataframe tbody tr th {\n",
       "        vertical-align: top;\n",
       "    }\n",
       "\n",
       "    .dataframe thead th {\n",
       "        text-align: right;\n",
       "    }\n",
       "</style>\n",
       "<table border=\"1\" class=\"dataframe\">\n",
       "  <thead>\n",
       "    <tr style=\"text-align: right;\">\n",
       "      <th></th>\n",
       "      <th>std</th>\n",
       "      <th>lin_reg</th>\n",
       "      <th>cos_dist</th>\n",
       "    </tr>\n",
       "  </thead>\n",
       "  <tbody>\n",
       "    <tr>\n",
       "      <th>std</th>\n",
       "      <td>1.000000</td>\n",
       "      <td>0.847127</td>\n",
       "      <td>0.864748</td>\n",
       "    </tr>\n",
       "    <tr>\n",
       "      <th>lin_reg</th>\n",
       "      <td>0.847127</td>\n",
       "      <td>1.000000</td>\n",
       "      <td>0.846986</td>\n",
       "    </tr>\n",
       "    <tr>\n",
       "      <th>cos_dist</th>\n",
       "      <td>0.864748</td>\n",
       "      <td>0.846986</td>\n",
       "      <td>1.000000</td>\n",
       "    </tr>\n",
       "  </tbody>\n",
       "</table>\n",
       "</div>"
      ],
      "text/plain": [
       "               std   lin_reg  cos_dist\n",
       "std       1.000000  0.847127  0.864748\n",
       "lin_reg   0.847127  1.000000  0.846986\n",
       "cos_dist  0.864748  0.846986  1.000000"
      ]
     },
     "execution_count": 12,
     "metadata": {},
     "output_type": "execute_result"
    }
   ],
   "source": [
    "semantic_scores = pd.DataFrame(\n",
    "    zip(data['w'],emb_std,lin_emb_sum,cos_dist_emb),\n",
    "    columns=['words','std','lin_reg','cos_dist']\n",
    ")\n",
    "semantic_scores.corr()"
   ]
  },
  {
   "cell_type": "markdown",
   "metadata": {},
   "source": [
    "## Top Words"
   ]
  },
  {
   "cell_type": "code",
   "execution_count": 22,
   "metadata": {},
   "outputs": [],
   "source": [
    "from collections import defaultdict\n",
    "\n",
    "top_k = 200\n",
    "dct = {\n",
    "    'most':{'std':None,'lin_reg':None,'cos_dist':None},\n",
    "    'least':{'std':None,'lin_reg':None,'cos_dist':None}\n",
    "      }\n",
    "for col in dct['most'].keys():\n",
    "    arr = semantic_scores.sort_values(by=col)['words'].values\n",
    "    dct['least'][col] = arr[:top_k]\n",
    "    dct['most'][col] = arr[-1*top_k:]"
   ]
  },
  {
   "cell_type": "code",
   "execution_count": 23,
   "metadata": {},
   "outputs": [
    {
     "data": {
      "text/html": [
       "<div>\n",
       "<style scoped>\n",
       "    .dataframe tbody tr th:only-of-type {\n",
       "        vertical-align: middle;\n",
       "    }\n",
       "\n",
       "    .dataframe tbody tr th {\n",
       "        vertical-align: top;\n",
       "    }\n",
       "\n",
       "    .dataframe thead tr th {\n",
       "        text-align: left;\n",
       "    }\n",
       "</style>\n",
       "<table border=\"1\" class=\"dataframe\">\n",
       "  <thead>\n",
       "    <tr>\n",
       "      <th></th>\n",
       "      <th colspan=\"3\" halign=\"left\">most</th>\n",
       "      <th colspan=\"3\" halign=\"left\">least</th>\n",
       "    </tr>\n",
       "    <tr>\n",
       "      <th></th>\n",
       "      <th>std</th>\n",
       "      <th>lin_reg</th>\n",
       "      <th>cos_dist</th>\n",
       "      <th>std</th>\n",
       "      <th>lin_reg</th>\n",
       "      <th>cos_dist</th>\n",
       "    </tr>\n",
       "  </thead>\n",
       "  <tbody>\n",
       "    <tr>\n",
       "      <th>0</th>\n",
       "      <td>april</td>\n",
       "      <td>april</td>\n",
       "      <td>techniques</td>\n",
       "      <td>drug</td>\n",
       "      <td>achievement</td>\n",
       "      <td>edward</td>\n",
       "    </tr>\n",
       "    <tr>\n",
       "      <th>1</th>\n",
       "      <td>november</td>\n",
       "      <td>november</td>\n",
       "      <td>ml</td>\n",
       "      <td>bone</td>\n",
       "      <td>telephone</td>\n",
       "      <td>entry</td>\n",
       "    </tr>\n",
       "    <tr>\n",
       "      <th>2</th>\n",
       "      <td>september</td>\n",
       "      <td>february</td>\n",
       "      <td>mcgraw</td>\n",
       "      <td>eve</td>\n",
       "      <td>grain</td>\n",
       "      <td>address</td>\n",
       "    </tr>\n",
       "    <tr>\n",
       "      <th>3</th>\n",
       "      <td>february</td>\n",
       "      <td>wife</td>\n",
       "      <td>skills</td>\n",
       "      <td>strain</td>\n",
       "      <td>societies</td>\n",
       "      <td>tension</td>\n",
       "    </tr>\n",
       "    <tr>\n",
       "      <th>4</th>\n",
       "      <td>january</td>\n",
       "      <td>january</td>\n",
       "      <td>september</td>\n",
       "      <td>enterprise</td>\n",
       "      <td>fault</td>\n",
       "      <td>focus</td>\n",
       "    </tr>\n",
       "    <tr>\n",
       "      <th>5</th>\n",
       "      <td>december</td>\n",
       "      <td>september</td>\n",
       "      <td>november</td>\n",
       "      <td>virginia</td>\n",
       "      <td>fund</td>\n",
       "      <td>index</td>\n",
       "    </tr>\n",
       "    <tr>\n",
       "      <th>6</th>\n",
       "      <td>october</td>\n",
       "      <td>god</td>\n",
       "      <td>april</td>\n",
       "      <td>attitudes</td>\n",
       "      <td>household</td>\n",
       "      <td>fortune</td>\n",
       "    </tr>\n",
       "    <tr>\n",
       "      <th>7</th>\n",
       "      <td>miles</td>\n",
       "      <td>october</td>\n",
       "      <td>february</td>\n",
       "      <td>stranger</td>\n",
       "      <td>job</td>\n",
       "      <td>mechanism</td>\n",
       "    </tr>\n",
       "    <tr>\n",
       "      <th>8</th>\n",
       "      <td>june</td>\n",
       "      <td>june</td>\n",
       "      <td>january</td>\n",
       "      <td>cm</td>\n",
       "      <td>concern</td>\n",
       "      <td>mark</td>\n",
       "    </tr>\n",
       "    <tr>\n",
       "      <th>9</th>\n",
       "      <td>months</td>\n",
       "      <td>evening</td>\n",
       "      <td>october</td>\n",
       "      <td>network</td>\n",
       "      <td>shock</td>\n",
       "      <td>logic</td>\n",
       "    </tr>\n",
       "    <tr>\n",
       "      <th>10</th>\n",
       "      <td>duties</td>\n",
       "      <td>months</td>\n",
       "      <td>june</td>\n",
       "      <td>duke</td>\n",
       "      <td>track</td>\n",
       "      <td>communication</td>\n",
       "    </tr>\n",
       "    <tr>\n",
       "      <th>11</th>\n",
       "      <td>university</td>\n",
       "      <td>december</td>\n",
       "      <td>months</td>\n",
       "      <td>membrane</td>\n",
       "      <td>sugar</td>\n",
       "      <td>democracy</td>\n",
       "    </tr>\n",
       "    <tr>\n",
       "      <th>12</th>\n",
       "      <td>july</td>\n",
       "      <td>july</td>\n",
       "      <td>miles</td>\n",
       "      <td>elizabeth</td>\n",
       "      <td>fee</td>\n",
       "      <td>engineering</td>\n",
       "    </tr>\n",
       "    <tr>\n",
       "      <th>13</th>\n",
       "      <td>evening</td>\n",
       "      <td>amount</td>\n",
       "      <td>december</td>\n",
       "      <td>planning</td>\n",
       "      <td>smith</td>\n",
       "      <td>sets</td>\n",
       "    </tr>\n",
       "    <tr>\n",
       "      <th>14</th>\n",
       "      <td>august</td>\n",
       "      <td>husband</td>\n",
       "      <td>july</td>\n",
       "      <td>breath</td>\n",
       "      <td>skills</td>\n",
       "      <td>shock</td>\n",
       "    </tr>\n",
       "    <tr>\n",
       "      <th>15</th>\n",
       "      <td>buildings</td>\n",
       "      <td>miles</td>\n",
       "      <td>names</td>\n",
       "      <td>china</td>\n",
       "      <td>trust</td>\n",
       "      <td>payments</td>\n",
       "    </tr>\n",
       "    <tr>\n",
       "      <th>16</th>\n",
       "      <td>amount</td>\n",
       "      <td>father</td>\n",
       "      <td>duties</td>\n",
       "      <td>stones</td>\n",
       "      <td>v</td>\n",
       "      <td>frame</td>\n",
       "    </tr>\n",
       "    <tr>\n",
       "      <th>17</th>\n",
       "      <td>god</td>\n",
       "      <td>brother</td>\n",
       "      <td>years</td>\n",
       "      <td>frame</td>\n",
       "      <td>credit</td>\n",
       "      <td>alexander</td>\n",
       "    </tr>\n",
       "    <tr>\n",
       "      <th>18</th>\n",
       "      <td>temperature</td>\n",
       "      <td>period</td>\n",
       "      <td>evening</td>\n",
       "      <td>background</td>\n",
       "      <td>exposure</td>\n",
       "      <td>georgia</td>\n",
       "    </tr>\n",
       "    <tr>\n",
       "      <th>19</th>\n",
       "      <td>dollars</td>\n",
       "      <td>direction</td>\n",
       "      <td>god</td>\n",
       "      <td>n</td>\n",
       "      <td>regime</td>\n",
       "      <td>answers</td>\n",
       "    </tr>\n",
       "  </tbody>\n",
       "</table>\n",
       "</div>"
      ],
      "text/plain": [
       "           most                              least                            \n",
       "            std    lin_reg    cos_dist         std      lin_reg       cos_dist\n",
       "0         april      april  techniques        drug  achievement         edward\n",
       "1      november   november          ml        bone    telephone          entry\n",
       "2     september   february      mcgraw         eve        grain        address\n",
       "3      february       wife      skills      strain    societies        tension\n",
       "4       january    january   september  enterprise        fault          focus\n",
       "5      december  september    november    virginia         fund          index\n",
       "6       october        god       april   attitudes    household        fortune\n",
       "7         miles    october    february    stranger          job      mechanism\n",
       "8          june       june     january          cm      concern           mark\n",
       "9        months    evening     october     network        shock          logic\n",
       "10       duties     months        june        duke        track  communication\n",
       "11   university   december      months    membrane        sugar      democracy\n",
       "12         july       july       miles   elizabeth          fee    engineering\n",
       "13      evening     amount    december    planning        smith           sets\n",
       "14       august    husband        july      breath       skills          shock\n",
       "15    buildings      miles       names       china        trust       payments\n",
       "16       amount     father      duties      stones            v          frame\n",
       "17          god    brother       years       frame       credit      alexander\n",
       "18  temperature     period     evening  background     exposure        georgia\n",
       "19      dollars  direction         god           n       regime        answers"
      ]
     },
     "execution_count": 23,
     "metadata": {},
     "output_type": "execute_result"
    }
   ],
   "source": [
    "top_words = pd.concat([pd.DataFrame(dct['least']),pd.DataFrame(dct['most'])], axis=1)\n",
    "columns=[(val,sub_val) for val in dct for sub_val in dct[val]]\n",
    "top_words.columns=pd.MultiIndex.from_tuples(columns)\n",
    "top_words.head(20)"
   ]
  },
  {
   "cell_type": "markdown",
   "metadata": {},
   "source": [
    "## Supervised Evaluation"
   ]
  },
  {
   "cell_type": "code",
   "execution_count": 15,
   "metadata": {},
   "outputs": [
    {
     "data": {
      "text/html": [
       "<div>\n",
       "<style scoped>\n",
       "    .dataframe tbody tr th:only-of-type {\n",
       "        vertical-align: middle;\n",
       "    }\n",
       "\n",
       "    .dataframe tbody tr th {\n",
       "        vertical-align: top;\n",
       "    }\n",
       "\n",
       "    .dataframe thead th {\n",
       "        text-align: right;\n",
       "    }\n",
       "</style>\n",
       "<table border=\"1\" class=\"dataframe\">\n",
       "  <thead>\n",
       "    <tr style=\"text-align: right;\">\n",
       "      <th></th>\n",
       "      <th>Source</th>\n",
       "      <th>Word</th>\n",
       "    </tr>\n",
       "  </thead>\n",
       "  <tbody>\n",
       "    <tr>\n",
       "      <th>0</th>\n",
       "      <td>Baroni et.al 2011</td>\n",
       "      <td>card</td>\n",
       "    </tr>\n",
       "    <tr>\n",
       "      <th>1</th>\n",
       "      <td>Baroni et.al 2011</td>\n",
       "      <td>sleep</td>\n",
       "    </tr>\n",
       "    <tr>\n",
       "      <th>2</th>\n",
       "      <td>Baroni et.al 2011</td>\n",
       "      <td>parent</td>\n",
       "    </tr>\n",
       "  </tbody>\n",
       "</table>\n",
       "</div>"
      ],
      "text/plain": [
       "              Source    Word\n",
       "0  Baroni et.al 2011    card\n",
       "1  Baroni et.al 2011   sleep\n",
       "2  Baroni et.al 2011  parent"
      ]
     },
     "execution_count": 15,
     "metadata": {},
     "output_type": "execute_result"
    }
   ],
   "source": [
    "changed_words_df = pd.read_csv(EVAL+'ChangedWords.csv')\n",
    "changed_words = changed_words_df['Word'].values\n",
    "changed_words_df.head(3)"
   ]
  },
  {
   "cell_type": "code",
   "execution_count": 16,
   "metadata": {},
   "outputs": [],
   "source": [
    "eval_dfs = {}\n",
    "for i in range(1,4):\n",
    "    eval_dfs[f'evaluator_{i}'] = pd.read_csv(EVAL+f'/20WordsEvaluator{i}.csv')\n",
    "words_filter = sum([eval_dfs[df]['CHANGED OR NOT'] for df in eval_dfs]) >= 1.\n",
    "\n",
    "evaluator_words = eval_dfs['evaluator_1'].loc[words_filter, 'WORD'].values"
   ]
  },
  {
   "cell_type": "code",
   "execution_count": 17,
   "metadata": {},
   "outputs": [],
   "source": [
    "all_eval_words = np.hstack([changed_words, evaluator_words,['meat', 'girl']])\n",
    "filtered_eval_words = [w for w in all_eval_words if w in semantic_scores['words'].values]"
   ]
  },
  {
   "cell_type": "code",
   "execution_count": 18,
   "metadata": {},
   "outputs": [
    {
     "name": "stdout",
     "output_type": "stream",
     "text": [
      "Recall@200 - std: 0.0769\n",
      "Recall@200 - lin_reg: 0.2308\n",
      "Recall@200 - cos_dist: 0.1538\n"
     ]
    }
   ],
   "source": [
    "for col in top_words['most'].columns:\n",
    "    val = len(set(top_words['most'][col])&set(filtered_eval_words))/len(filtered_eval_words)\n",
    "    print(f\"Recall@{top_k} - {col}: {val:.4f}\")"
   ]
  },
  {
   "cell_type": "markdown",
   "metadata": {},
   "source": [
    "# Key Points Detection (Linear Regression)"
   ]
  },
  {
   "cell_type": "code",
   "execution_count": 19,
   "metadata": {},
   "outputs": [],
   "source": [
    "lin_df = semantic_scores.sort_values('lin_reg',ascending=False)['words'].head(3)\n",
    "lin_keys = list(lin_df.keys())"
   ]
  },
  {
   "cell_type": "code",
   "execution_count": 20,
   "metadata": {},
   "outputs": [
    {
     "name": "stderr",
     "output_type": "stream",
     "text": [
      "<ipython-input-20-904a0a709bea>:2: UserWarning: FixedFormatter should only be used together with FixedLocator\n",
      "  plt.setp(ax, xticklabels=data['d'])\n"
     ]
    },
    {
     "data": {
      "image/png": "[encoded data removed]",
      "text/plain": [
       "<Figure size 576x792 with 3 Axes>"
      ]
     },
     "metadata": {
      "needs_background": "light"
     },
     "output_type": "display_data"
    }
   ],
   "source": [
    "fig, ax = plt.subplots(len(lin_keys), figsize=(8,11))\n",
    "plt.setp(ax, xticklabels=data['d'])\n",
    "for ind,k in enumerate(lin_keys):\n",
    "    l2 = [np.linalg.norm(emb[k][:,i] - emb[k][:,i+1]) for i in range(9)]\n",
    "    ax[ind].axvline(x=np.argmax(l2),color='red')\n",
    "    ax[ind].plot(l2, marker='*')\n",
    "    ax[ind].set_title(data['w'][k])\n",
    "fig.suptitle('L2 distace between pairs of years',y=0.933, fontsize=16);"
   ]
  }
 ],
 "metadata": {
  "kernelspec": {
   "display_name": "Python 3",
   "language": "python",
   "name": "python3"
  },
  "language_info": {
   "codemirror_mode": {
    "name": "ipython",
    "version": 3
   },
   "file_extension": ".py",
   "mimetype": "text/x-python",
   "name": "python",
   "nbconvert_exporter": "python",
   "pygments_lexer": "ipython3",
   "version": "3.8.5"
  }
 },
 "nbformat": 4,
 "nbformat_minor": 4
}
